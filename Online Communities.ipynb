{
 "metadata": {
  "name": ""
 },
 "nbformat": 3,
 "nbformat_minor": 0,
 "worksheets": [
  {
   "cells": [
    {
     "cell_type": "heading",
     "level": 1,
     "metadata": {},
     "source": [
      "Online Communities"
     ]
    },
    {
     "cell_type": "markdown",
     "metadata": {},
     "source": [
      "If you want to talk with people or read about Pandas, IPython Notebook, etc., here are some places to start:\n",
      "\n",
      "### Pandas\n",
      "- Pandas developers: <https://groups.google.com/forum/m/#!forum/pystatsmodels>\n",
      "- Pandas user mailing list: <https://groups.google.com/forum/m/#!forum/pydata>\n",
      "- Pandas on Stack Overflow: <http://stackoverflow.com/questions/tagged/pandas>\n",
      "\n",
      "### IPython Notebooks\n",
      "- IPython developers: <http://mail.scipy.org/mailman/listinfo/ipython-dev>\n",
      "\n",
      "### Python\n",
      "- [comp.lang.python](https://groups.google.com/forum/m/#!forum/comp.lang.python): major discussion group for Python\n",
      "\n",
      "### Blogs\n",
      "- Yhat, on python and r: <http://blog.yhathq.com>\n"
     ]
    }
   ],
   "metadata": {}
  }
 ]
}