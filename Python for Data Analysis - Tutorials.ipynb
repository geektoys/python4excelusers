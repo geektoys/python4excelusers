{
 "metadata": {
  "name": ""
 },
 "nbformat": 3,
 "nbformat_minor": 0,
 "worksheets": [
  {
   "cells": [
    {
     "cell_type": "heading",
     "level": 1,
     "metadata": {},
     "source": [
      "Python for Data Analysis - Tutorials"
     ]
    },
    {
     "cell_type": "markdown",
     "metadata": {},
     "source": [
      "Tutorials on Pandas and IPython Notebook, plus a few tutorials on Python and Python-oriented Data Science.\n",
      "\n",
      "## Pandas\n",
      "* Wes' [10 minute tour](http://vimeo.com/59324550)\n",
      "* [Documentation](http://pandas.pydata.org/pandas-docs/stable/) and [cookbook](http://pandas.pydata.org/pandas-docs/stable/cookbook.html) for the most recent version of Pandas\n",
      "* Julia Evans' IPython [Notebook](http://nbviewer.ipython.org/github/jvns/talks/blob/master/pydatanyc2013/PyData%20NYC%202013%20tutorial%20(morning).ipyn) and [video](http://vimeo.com/79835526) of her great tutorial for high school girls at PyData NYC, which uses 311 data from New York City.\n",
      "* Julia Evans' intro video tutorial on Pandas using [citibike data](http://vimeo.com/79860934)\n",
      "* Julia Evans' [cookbook](https://github.com/jvns/pandas-cookbook)/tutorial\n",
      "* Pandas video tutorial aimed at [Excel users](http://blog.gramener.com/1174/pandas-tutorial)\n",
      "* [\"Civic hacking\"](http://version2beta.com/articles/civic-hacking-with-ipython-and-pandas/#fn-beazleytutorial) with Pandas and IPython Notebook\n",
      "* How to use Pandas' [Group By](http://www.hselab.org/machinery/content/getting-started-python-pandas-and-matplotlib-group-analysis), using surgical case data\n",
      "* [Top 10](http://manishamde.github.io/blog/2013/03/07/pandas-and-python-top-10/) useful Pandas treks\n",
      "* [Three](http://www.gregreda.com/2013/10/26/intro-to-pandas-data-structures/) [part](http://www.gregreda.com/2013/10/26/working-with-pandas-dataframes/) [tutorial][http://www.gregreda.com/2013/10/26/using-pandas-on-the-movielens-dataset/), including a nice example on how to read Excel files\n",
      "*Using Google Analytics with Pandas: tutorials by [yhat](http://blog.yhathq.com/posts/pandas-google-analytics.html) and [quantabee](http://quantabee.wordpress.com/2012/12/17/google-analytics-pandas/) (see also Google Analytics' [Python API](https://code.google.com/p/google-api-pythonclient/wiki/SampleApps#Google_Analytics_API) )\n",
      "* [Pandas for Excel And SQL Developers](http://nbviewer.ipython.org/urls/bitbucket.org/hrojas/learn-pandas/raw/master/lessons/Pandas%20for%20Excel%20Developers.ipynb)\n",
      "* [Links](https://sites.google.com/site/aslugsguidetopython/data-analysis/pandas/pandas-example) to [other](http://synesthesiam.com/posts/an-introduction-to-pandas.html) Pandas [intros](http://www.bearrelroll.com/2013/05/python-pandas-tutorial/)\n",
      "\n",
      "## IPython Notebook\n",
      "* IPython's official [tutorial](http://ipython.org/ipython-doc/stable/interactive/tutorial.html) and [videos](http://ipython.org/videos.html)\n",
      "* [How IPython Notebook and GitHub Changed the Way I Teach Python](http://peak5390.wordpress.com/2013/09/22/how-ipython-notebook-and-github-have-changed-the-way-i-teach-python/): great essay by high school teacher on how to use IPython Notebook and GitHub in teaching classes\n",
      "* Brian Granger's [PyData NYC 2013 talk]( http://vimeo.com/79832657) on IPython Notebook, which gives a great overview of the philosophy behind IPython Notebook and where it is headed\n",
      "* How to [open your current URL in nbviewer with one click](https://github.com/jiffyclub/open-in-nbviewer), which says \"Matt Davis has conveniently written a set of bookmarklets and extensions to make it a one-click affair to load a Notebook URL into your browser of choice, directly opening into nbviewer.\"\n",
      "* Using [git](http://nbviewer.ipython.org/github/jrjohansson/scientific-python-lectures/blob/master/Lecture-7-Revision-Control-Software.ipynb) with IPython Notebook\n",
      "* [Styling your IPython Notebook [using CSS](http://nbviewer.ipython.org/github/Carreau/posts/blob/master/Blog1.ipynb)\n",
      "* Cam Davidson Pilon's online book, [Bayesian Analysis for Hackers](http://camdavidsonpilon.github.io/Probabilistic-Programming-and-Bayesian-Methods-for-Hackers/): great example of a very pretty IPython Notebook\n",
      "\n",
      "## Data Visualization with Pandas/IPython Notebook\n",
      "* [Matplotlib](http://nbviewer.ipython.org/github/jrjohansson/scientific-python-lectures/blob/master/Lecture-4-Matplotlib.ipynb) on IPython Notebook\n",
      "* Making mathplotlib [look funky](http://jakevdp.github.io/blog/2013/07/10/XKCD-plots-in-matplotlib/)\n",
      "* Using [D3](http://nbviewer.ipython.org/github/ResearchComputing/Meetup-Fall-2013/blob/master/python/lecture_20_d3.ipynb) and IPython Notebook\n",
      "* Tutorial on [Bokeh](http://vimeo.com/79842691), a data visualization library, at pyData NYC\n",
      "* Video on Pandas and [rapid data vizualization in IPython]( http://vimeo.com/79580138) (d3, etc)\n",
      "\n",
      "## Python Programming\n",
      "* [Intro to Python](http://introtopython.org)\n",
      "* Python [wiki](https://wiki.python.org/moin/)\n",
      "* [Beginner's Guide](https://wiki.python.org/moin/BeginnersGuide/NonProgrammers) to Python for nonprogrammers\n",
      "* [How IPython Notebook and GitHub Changed the Way I Teach Python]( http://peak5390.wordpress.com/2013/09/22/how-ipython-notebook-and-github-have-changed-the-way-i-teach-python/): contains links to high school class on learning Python\n",
      "* [Python Programming for the Humanities](http://fbkarsdorp.github.io/python-course/): course on analyzing text using iPython\n",
      "* Python [best design strategies](http://software-carpentry.org/v4/invperc/intro.html)\n",
      "\n",
      "## Data Science \n",
      "* [Harvard Data Science class](http://cs109.org/) using Python, including Flash videos of each lecture\n",
      "* Cam Davidson Pilon's online book, [Bayesian Analysis for Hackers](http://camdavidsonpilon.github.io/Probabilistic-Programming-and-Bayesian-Methods-for-Hackers/): great example of a very pretty IPython Notebook\n",
      "* Tutorial on learning Pandas by [predicting SAT scores](http://blog.kaggle.com/2013/01/17/getting-started-with-pandas-predicting-sat-scores-for-new-york-city-schools/) for New York City schools\n",
      "* [Learn Data Science](http://learnds.com)\n"
     ]
    }
   ],
   "metadata": {}
  }
 ]
}