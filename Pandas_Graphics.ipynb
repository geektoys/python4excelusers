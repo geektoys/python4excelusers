{
 "metadata": {
  "name": ""
 },
 "nbformat": 3,
 "nbformat_minor": 0,
 "worksheets": [
  {
   "cells": [
    {
     "cell_type": "heading",
     "level": 1,
     "metadata": {},
     "source": [
      "Pandas Graphics"
     ]
    },
    {
     "cell_type": "markdown",
     "metadata": {},
     "source": [
      "## matplotlib\n",
      "\n",
      "[matplotlib](http://matplotlib.org/) is the graphics workhorse of Pandas and IPython Notebook. Pandas uses matplotlib for all of its core graphing, and a lot of basic stuff is pretty straightforward to do. That's why we will end up with a whole page devoted to it\n",
      "\n",
      "Unfortunately, matplotlib's out of the box the graphs aren't all that pretty. We're exploring ways of trying to get around that.  \n",
      "\n",
      "## Alternatives to matplotlib\n",
      "\n",
      "If you need something prettier than matplotlib, you've got a few choices:\n",
      "\n",
      " - [ggplot](https://github.com/yhat/ggplot/): the data analysis language R has a powerful library called ggplot2, and most of its features have now been ported over to Python/Pandas. If matplotlib drive you crazy, ggplot is definitely worth taking a look at. But a lot of the commands you used to do graphs look a little weird, and although it's a little easier to make it visually more pleasing than matplotlib, it's still got a ways to go.\n",
      " - [Bokeh](http://bokeh.pydata.org/) Bokeh makes very pretty data visualizations.  India ts main aim is to make doing visualizations with gobs of data much easier to do \u2013 a great idea, but probably not an issue that most Python for Excel Users will run into. Currently, it doesn't provide easy ways to produce  basic business charts like bar charts, but for graphing a bunch of data points, it looks really nice.\n",
      " - [Vincent](http://vincent.readthedocs.org/en/latest/): Vincent is a Python library on top of Vega, a JavaScript visualization library.  You can easily do pretty standard business graphs in it, and it works very nicely with Pandas. You can't customize it as much as you can with the JavaScript libraries below \u2013 d3/nvd3 \u2013 but then again it's a fraction of the work you would have to spend. The one problem we've encountered so far with Vincent is that if you want to do a bunch of graphs together, it doesn't offer you tools to make it easy to do.\n",
      " - [d3](http://d3js.org/): you can do very cool graphics in a JavaScript library called d3, but it's an awful lot of work. And to use it with Pandas, you have to convert the Pandas data into a JavaScript data format called JSON. So if you are trying to fluidly interact with the data as you are exploring it, it's really not a good option.\n",
      " - [nvd3](http://nvd3.org/): if you are trying to create basic charts, it takes a lot of the work out of d3. There is a Python wrapper for it. But when it comes to data, you've got the same issue you do with d3. So for Python for Excel Users, it's not much better off an option.\n",
      " - [Seaborn]( http://stanford.edu/%7Emwaskom/software/seaborn/introduction.html): designed for drawing statistical graphs, Seaborn makes a bunch of educated guesses as to what kind of graph would best fit your data. Works closely with Pandas. If you are trying to graph stats, it's definitely worth checking out.\n",
      "\n",
      "## Where to Go from Here?\n",
      "\n",
      "Pandas/IPython Notebook definitely has a way to go when it comes to satisfying Python for Excel Users' charting. At least right now, we don't have a good answer for our needs. But given some of the changes that are coming in the new version of IPython Notebooks, we may get some better options in the next year.\n",
      "\n",
      "In the meantime, you might want to use the fact that there isn't yet a great solution as a spur to explore other ways of charting data than most of us have normally done with Excel. Part of the reason we want to encourage Excel users to try Pandas/IPython Notebook is that it opens up a whole range of new types of analysis. This might be the perfect excuse to give them a try.\n",
      "\n",
      "For a very different perspective on visualization, see Andrew Montalenti's very interesting PyData 2013 talk, [Rapid Data Visualization, from Python to Browser](http://vimeo.com/79580138)\n"
     ]
    }
   ],
   "metadata": {}
  }
 ]
}