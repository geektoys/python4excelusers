{
 "metadata": {
  "name": ""
 },
 "nbformat": 3,
 "nbformat_minor": 0,
 "worksheets": [
  {
   "cells": [
    {
     "cell_type": "heading",
     "level": 2,
     "metadata": {},
     "source": [
      "Pandas for Excel Users: a Cookbook"
     ]
    },
    {
     "cell_type": "markdown",
     "metadata": {},
     "source": [
      "\\[ DRAFT \\] \\[ DRAFT \\] \\[ DRAFT \\]\n",
      "\n",
      "*NOTE: this hasn't been vetted yet, it's our first experiment. There may be better/simpler ways to solve your problem.*\n",
      "\n",
      "- Files: Reading  [Excel](Pandas_Files.ipynb#Reading-Excel-files), CSV, or Tab-delimited files; Writing Excel, CSV, or Tab-delimited files\n",
      "- Data frames: looking at the first couple of rows\n",
      "- Cleaning up: deleting columns, merging, etc."
     ]
    },
    {
     "cell_type": "markdown",
     "metadata": {},
     "source": [
      "*Things I need to fix:\n",
      "- Change the examples to ones that can be reproduced*"
     ]
    },
    {
     "cell_type": "heading",
     "level": 3,
     "metadata": {},
     "source": [
      "About Pandas for Excel Users"
     ]
    },
    {
     "cell_type": "markdown",
     "metadata": {},
     "source": [
      "(Something about what we're trying to accomplish for folks who are comfortable doing basic stuff and Excel and are running out of runway)"
     ]
    }
   ],
   "metadata": {}
  }
 ]
}