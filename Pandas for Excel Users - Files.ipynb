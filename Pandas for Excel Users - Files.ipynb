{
 "metadata": {
  "name": ""
 },
 "nbformat": 3,
 "nbformat_minor": 0,
 "worksheets": [
  {
   "cells": [
    {
     "cell_type": "heading",
     "level": 2,
     "metadata": {},
     "source": [
      "Pandas for Excel Users: Files"
     ]
    },
    {
     "cell_type": "markdown",
     "metadata": {},
     "source": [
      "- Reading files: Excel, CSV, tab delimited.  Plus links to troubleshooting and official documentation.\n",
      "- Writing files:"
     ]
    },
    {
     "cell_type": "heading",
     "level": 3,
     "metadata": {},
     "source": [
      "Reading Excel files"
     ]
    },
    {
     "cell_type": "markdown",
     "metadata": {},
     "source": [
      "You can read in Excel file into a data frame in just one line:"
     ]
    },
    {
     "cell_type": "code",
     "collapsed": false,
     "input": [
      "sales = pd.read_excel('sales_data.xlsx', 0, index_col=None, na_values=['NA'])"
     ],
     "language": "python",
     "metadata": {},
     "outputs": []
    },
    {
     "cell_type": "markdown",
     "metadata": {},
     "source": [
      "For the file 'sales_data.xlsx', this will read the spreadsheet's first workbook \u2013 that's what the 0 is for \u2013 into a DataFrame.\n",
      "\n",
      "If you want to read the workbook other than the first one, you can either use a number \u2013 0 for the first one, 1 for the second, etc. \u2013 or you can use the name of the worksheet:"
     ]
    },
    {
     "cell_type": "code",
     "collapsed": false,
     "input": [
      "sales = pd.read_excel('sales_data.xlsx', 'Data from Accounting', index_col=None, na_values=['NA'])"
     ],
     "language": "python",
     "metadata": {},
     "outputs": []
    },
    {
     "cell_type": "markdown",
     "metadata": {},
     "source": [
      "For more info, see the [Pandas documentation](http://pandas.pydata.org/pandas-docs/dev/io.html#io-excel)."
     ]
    },
    {
     "cell_type": "heading",
     "level": 3,
     "metadata": {},
     "source": [
      "Troubleshooting Reading Files"
     ]
    },
    {
     "cell_type": "markdown",
     "metadata": {},
     "source": [
      "Is Pandas complaining it can't find the file you're trying to read in? Running this code will show you what directory it thinks you're in and the names of the files in that directory:"
     ]
    },
    {
     "cell_type": "code",
     "collapsed": false,
     "input": [
      "import os\t\n",
      "os.listdir('.')  \t#  one dot =  your current directory"
     ],
     "language": "python",
     "metadata": {},
     "outputs": []
    },
    {
     "cell_type": "markdown",
     "metadata": {},
     "source": [
      "Here are some things you might check:\n",
      "\n",
      "Are you in the directory you thought you were in?\n",
      "\n",
      "Is the file extension the same?  For example, if you're importing an Excel file you might've typed \".xls\" but the file name actually ends with \".xlsx\"."
     ]
    }
   ],
   "metadata": {}
  }
 ]
}